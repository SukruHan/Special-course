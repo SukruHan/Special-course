{
 "cells": [
  {
   "cell_type": "code",
   "execution_count": null,
   "metadata": {},
   "outputs": [],
   "source": [
    "import pandas as pd\n",
    "import numpy as np\n",
    "import infostop"
   ]
  },
  {
   "cell_type": "code",
   "execution_count": null,
   "metadata": {},
   "outputs": [],
   "source": [
    "data = pd.read_csv('data_one_month.csv')\n",
    "data = data.drop('Unnamed: 0', axis=1)\n",
    "data"
   ]
  },
  {
   "cell_type": "code",
   "execution_count": null,
   "metadata": {},
   "outputs": [],
   "source": [
    "# create model\n",
    "model = infostop.Infostop()"
   ]
  },
  {
   "cell_type": "code",
   "execution_count": null,
   "metadata": {},
   "outputs": [],
   "source": [
    "for key, group in data.groupby('user'):\n",
    "    try:\n",
    "        print(key)\n",
    "        group = group.sort_values(by = 'timestamp', ascending = True)\n",
    "        gps_data = group[['lat', 'lon', 'timestamp']].to_numpy()\n",
    "        labels = model.fit_predict(gps_data)\n",
    "        labels_list = labels.tolist()\n",
    "        group['labels'] = labels_list \n",
    "        group = pd.DataFrame(infostop.postprocess.compute_intervals(group[['lat','lon','timestamp']].values,labels),\n",
    "                columns = ['label','start','end','lat','lon'])\n",
    "        stops_user = group[group['label'] != -1]\n",
    "        stops_user = stops_user.reset_index(drop=True)\n",
    "        stops_user['user'] = key\n",
    "        final_stops = final_stops.append(stops_user)\n",
    "    except:\n",
    "        pass"
   ]
  },
  {
   "cell_type": "code",
   "execution_count": null,
   "metadata": {},
   "outputs": [],
   "source": [
    "final_stops.to_csv('stops.csv', index=False)"
   ]
  }
 ],
 "metadata": {
  "kernelspec": {
   "display_name": "Python 3",
   "language": "python",
   "name": "python3"
  },
  "language_info": {
   "codemirror_mode": {
    "name": "ipython",
    "version": 3
   },
   "file_extension": ".py",
   "mimetype": "text/x-python",
   "name": "python",
   "nbconvert_exporter": "python",
   "pygments_lexer": "ipython3",
   "version": "3.8.3"
  }
 },
 "nbformat": 4,
 "nbformat_minor": 4
}
