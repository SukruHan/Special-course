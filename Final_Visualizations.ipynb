{
 "cells": [
  {
   "cell_type": "code",
   "execution_count": 6,
   "metadata": {},
   "outputs": [
    {
     "name": "stdout",
     "output_type": "stream",
     "text": [
      "0.16.0\n"
     ]
    }
   ],
   "source": [
    "import infostop\n",
    "import pandas as pd\n",
    "import numpy as np\n",
    "import os\n",
    "\n",
    "import osmnx as ox\n",
    "import requests\n",
    "import matplotlib.cm as cm\n",
    "import matplotlib.colors as colors\n",
    "%matplotlib inline\n",
    "ox.config(use_cache=True, log_console=True)\n",
    "print(ox.__version__)\n",
    "\n",
    "import networkx as nx\n",
    "import geopandas as gpd\n",
    "import multiprocessing as mp\n",
    "\n",
    "from descartes import PolygonPatch\n",
    "from shapely.geometry import Polygon, MultiPolygon\n",
    "\n",
    "import folium\n",
    "from folium.plugins import Fullscreen, HeatMapWithTime, TimestampedGeoJson\n",
    "from folium.plugins import TimestampedGeoJson, HeatMap, HeatMapWithTime\n",
    "\n",
    "import geopy\n",
    "from geopy.geocoders import Nominatim\n",
    "from geopy.extra.rate_limiter import RateLimiter\n",
    "import matplotlib.pyplot as plt\n",
    "import plotly_express as px\n",
    "import tqdm\n",
    "from tqdm._tqdm_notebook import tqdm_notebook\n",
    "\n",
    "from IPython.display import display, HTML, Markdown, IFrame\n",
    "\n",
    "import plotly\n",
    "import plotly.graph_objects as go\n",
    "import plotly.express as px\n",
    "from plotly.subplots import make_subplots\n",
    "\n",
    "def print_df(df):\n",
    "    return display(HTML(df.to_html()))\n",
    "\n",
    "def percent_missing(df):\n",
    "    percent_missing = df.isnull().sum() * 100 / len(df)\n",
    "    missing_value_df = pd.DataFrame({'column_name': df.columns,\n",
    "                                 'percent_missing': percent_missing})\n",
    "    missing_value_df.sort_values('percent_missing', inplace=True)\n",
    "    missing_value_df.reset_index(drop=True, inplace=True)\n",
    "    return missing_value_df\n",
    "\n",
    "df = pd.read_csv('nearest_wo_home_by_hour.csv')\n",
    "#print_df(df.head())"
   ]
  },
  {
   "cell_type": "markdown",
   "metadata": {},
   "source": [
    "### Obtain nearest dataframe without home locations with \"get_lean_df\" method."
   ]
  },
  {
   "cell_type": "code",
   "execution_count": 7,
   "metadata": {},
   "outputs": [
    {
     "name": "stdout",
     "output_type": "stream",
     "text": [
      "Attribute data types:\n",
      " user         object\n",
      "category     object\n",
      "date         object\n",
      "duration    float64\n",
      "dtype: object\n",
      "\n",
      "Shape of data set:  (11000, 4)\n",
      "\n"
     ]
    },
    {
     "data": {
      "text/html": [
       "<table border=\"1\" class=\"dataframe\">\n",
       "  <thead>\n",
       "    <tr style=\"text-align: right;\">\n",
       "      <th></th>\n",
       "      <th>user</th>\n",
       "      <th>category</th>\n",
       "      <th>date</th>\n",
       "      <th>duration</th>\n",
       "    </tr>\n",
       "  </thead>\n",
       "  <tbody>\n",
       "    <tr>\n",
       "      <th>0</th>\n",
       "      <td>0</td>\n",
       "      <td>Others</td>\n",
       "      <td>2014-01-04</td>\n",
       "      <td>1.259167</td>\n",
       "    </tr>\n",
       "    <tr>\n",
       "      <th>1</th>\n",
       "      <td>0</td>\n",
       "      <td>Sustenance</td>\n",
       "      <td>2014-01-03</td>\n",
       "      <td>0.518889</td>\n",
       "    </tr>\n",
       "    <tr>\n",
       "      <th>2</th>\n",
       "      <td>0</td>\n",
       "      <td>Sustenance</td>\n",
       "      <td>2014-01-04</td>\n",
       "      <td>2.593333</td>\n",
       "    </tr>\n",
       "    <tr>\n",
       "      <th>3</th>\n",
       "      <td>0</td>\n",
       "      <td>Sustenance</td>\n",
       "      <td>2014-01-05</td>\n",
       "      <td>5.606111</td>\n",
       "    </tr>\n",
       "    <tr>\n",
       "      <th>4</th>\n",
       "      <td>0</td>\n",
       "      <td>Sustenance</td>\n",
       "      <td>2014-01-11</td>\n",
       "      <td>2.994722</td>\n",
       "    </tr>\n",
       "  </tbody>\n",
       "</table>"
      ],
      "text/plain": [
       "<IPython.core.display.HTML object>"
      ]
     },
     "metadata": {},
     "output_type": "display_data"
    }
   ],
   "source": [
    "def get_lean_df(df, distance):\n",
    "    df = pd.DataFrame(df.loc[df.dist_mt<=distance])\n",
    "    df.reset_index(drop=True, inplace=True)\n",
    "    df.drop(columns=['end','label','user_geometry','location_geometry','dist_mt','location','detail_location'], inplace=True)\n",
    "    df.rename(columns={\"start\":\"date\", \"duration_hours\":\"duration\"}, inplace=True)\n",
    "    df['date'] = pd.to_datetime(df['date'])\n",
    "    df['date'] = df['date'].dt.date\n",
    "    df['user'] = df['user'].apply(str)\n",
    "    df['category'] = df['category'].apply(str)\n",
    "    df = pd.DataFrame(df.groupby(by=[\"user\", \"category\", \"date\"])[\"duration\"].sum().reset_index())\n",
    "    print(\"Attribute data types:\\n\",df.dtypes)\n",
    "    print()\n",
    "    print(\"Shape of data set: \", df.shape)\n",
    "    print()\n",
    "    print_df(df.head())\n",
    "    return df\n",
    "# Declare distance\n",
    "DISTANCE = 20\n",
    "df_out = get_lean_df(df, DISTANCE)"
   ]
  },
  {
   "cell_type": "markdown",
   "metadata": {},
   "source": [
    "### Home locations dataframe"
   ]
  },
  {
   "cell_type": "code",
   "execution_count": 8,
   "metadata": {},
   "outputs": [],
   "source": [
    "df_in = pd.read_csv('daily_home_hours.csv')\n",
    "df_in.rename(columns={\"start_date\":\"date\", \"duration_h\":\"duration\"}, inplace=True)\n",
    "df_in['user'] = df_in['user'].apply(str)\n",
    "df_in[\"category\"] = \"Residence\"\n",
    "del df_in[\"label\"]\n",
    "df_in = df_in.groupby(by=[\"user\", \"category\", \"date\"])[\"duration\"].sum().reset_index()\n",
    "#df_in.head()"
   ]
  },
  {
   "cell_type": "code",
   "execution_count": 9,
   "metadata": {},
   "outputs": [],
   "source": [
    "final_df = df_in.append(df_out, ignore_index=True)\n",
    "final_df.sort_values(by=[\"user\", \"date\", \"category\"], inplace=True)\n",
    "final_df.reset_index(inplace=True, drop=True)\n",
    "#final_df.head()"
   ]
  },
  {
   "cell_type": "markdown",
   "metadata": {},
   "source": [
    "### Weekend and Weekday dataframe"
   ]
  },
  {
   "cell_type": "code",
   "execution_count": 10,
   "metadata": {},
   "outputs": [],
   "source": [
    "final_df['date'] = pd.to_datetime(final_df['date'])\n",
    "final_df['dayofweek'] = final_df['date'].apply(lambda x: x.weekday())\n",
    "#print_df(final_df.head())\n",
    "weekend_df = pd.DataFrame(final_df.loc[final_df['dayofweek'].isin([5, 6])])\n",
    "weekend_df.reset_index(drop=True, inplace=True)\n",
    "weekday_df = pd.DataFrame(final_df.loc[final_df['dayofweek'].isin([0, 1, 2, 3, 4])])\n",
    "weekday_df.reset_index(drop=True, inplace=True)"
   ]
  },
  {
   "cell_type": "markdown",
   "metadata": {},
   "source": [
    "### Distibution of users for each category throughout the month (Average hours/day)"
   ]
  },
  {
   "cell_type": "code",
   "execution_count": 11,
   "metadata": {
    "scrolled": false
   },
   "outputs": [
    {
     "data": {
      "text/html": [
       "\n",
       "        <iframe\n",
       "            width=\"1100\"\n",
       "            height=\"600\"\n",
       "            src=\"Plotly_Distribution for Weekdays-Weekends20.html\"\n",
       "            frameborder=\"0\"\n",
       "            allowfullscreen\n",
       "        ></iframe>\n",
       "        "
      ],
      "text/plain": [
       "<IPython.lib.display.IFrame at 0x7f221dd36c10>"
      ]
     },
     "execution_count": 11,
     "metadata": {},
     "output_type": "execute_result"
    }
   ],
   "source": [
    "categories = sorted(list(final_df.category.unique()))\n",
    "weekday_mean = weekday_df.groupby(['user', 'date', 'category'])['duration'].mean().reset_index()\n",
    "weekend_mean = weekend_df.groupby(['user', 'date', 'category'])['duration'].mean().reset_index()\n",
    "\n",
    "rowCnt, colCnt = int(1), int(1)\n",
    "fig_hist = make_subplots(rows=3, cols=3, subplot_titles=categories, vertical_spacing=0.13, horizontal_spacing=0.1)\n",
    "first_time = 0\n",
    "for cat in categories:\n",
    "    weekday_cat = list(weekday_mean.loc[weekday_mean['category'] == cat][\"duration\"])\n",
    "    weekend_cat = list(weekend_mean.loc[weekend_mean['category'] == cat][\"duration\"])\n",
    "    if(first_time==0):\n",
    "        fig_hist.append_trace(go.Histogram(x=weekday_cat, xbins=dict(start=1, end=24, size=1),\\\n",
    "                                       autobinx=False, histnorm='percent', marker_color=\"blue\", name=\"Weekday\",legendgroup='a'), rowCnt, colCnt)\n",
    "        fig_hist.append_trace(go.Histogram(x=weekend_cat, xbins=dict(start=1, end=24, size=1), \\\n",
    "                                       autobinx=False, histnorm='percent', marker_color=\"red\", name=\"Weekend\",legendgroup='b'), rowCnt, colCnt)\n",
    "        first_time += 1\n",
    "    else:\n",
    "        fig_hist.append_trace(go.Histogram(x=weekday_cat, xbins=dict(start=1, end=24, size=1),\\\n",
    "                                       autobinx=False, histnorm='percent', marker_color=\"blue\", name=\"Weekday\",showlegend=False), rowCnt, colCnt)\n",
    "        fig_hist.append_trace(go.Histogram(x=weekend_cat, xbins=dict(start=1, end=24, size=1), \\\n",
    "                                       autobinx=False, histnorm='percent', marker_color=\"red\", name=\"Weekend\",showlegend=False), rowCnt, colCnt)\n",
    "      \n",
    "    colCnt += 1\n",
    "    if(colCnt > 3):\n",
    "        rowCnt += 1\n",
    "        colCnt = 1\n",
    "        \n",
    "fig_hist.update_layout(height=800, width=1000, title_text=\"Histogram - Distibution of Users for Each Category throughout the Month ({} meters radius)\".format(DISTANCE))\n",
    "fig_hist.update_xaxes(title = \"Bins (24 Hours)\", showline=True, linewidth=1.5, linecolor='black', mirror=True, fixedrange=True, range=[0, 24])\n",
    "fig_hist.update_yaxes(title = \"Percentage of Counts\", showline=True, linewidth=1.5, linecolor='black', mirror=True, ticksuffix = \"%\")\n",
    "name = \"Plotly_Distribution for Weekdays-Weekends\"\n",
    "fig_hist.write_image(name+\"{}.png\".format(DISTANCE))\n",
    "fig_hist.write_html(name+\"{}.html\".format(DISTANCE), auto_open=True)\n",
    "IFrame(name+\"{}.html\".format(DISTANCE), width=1100, height=600)"
   ]
  },
  {
   "cell_type": "markdown",
   "metadata": {},
   "source": [
    "### Average Barplot & Boxplot for all users (Average hours/month)\n",
    "#### Side by side for all categories"
   ]
  },
  {
   "cell_type": "code",
   "execution_count": 12,
   "metadata": {},
   "outputs": [],
   "source": [
    "final_df['isweekend'] = np.where(final_df['dayofweek'].isin([5, 6]), 'Weekend', 'Weekday')\n",
    "#final_df.head()"
   ]
  },
  {
   "cell_type": "code",
   "execution_count": 13,
   "metadata": {},
   "outputs": [
    {
     "data": {
      "text/html": [
       "\n",
       "        <iframe\n",
       "            width=\"1000\"\n",
       "            height=\"700\"\n",
       "            src=\"Plotly_BoxPlots20.html\"\n",
       "            frameborder=\"0\"\n",
       "            allowfullscreen\n",
       "        ></iframe>\n",
       "        "
      ],
      "text/plain": [
       "<IPython.lib.display.IFrame at 0x7f22265b7fd0>"
      ]
     },
     "execution_count": 13,
     "metadata": {},
     "output_type": "execute_result"
    }
   ],
   "source": [
    "box_data = pd.DataFrame(final_df.groupby(['date', 'category', 'isweekend'])['duration'].mean().reset_index())\n",
    "fig_box = px.box(box_data, x=\"category\", y=\"duration\", color=\"isweekend\",\\\n",
    "            labels={\"duration\": \"Average Hours/Day\", \"category\": \"Category\", \"isweekend\": \"Color Legend\"}, \\\n",
    "            title=\"Box Plot Comparisons for Categories ({} meters radius)\".format(DISTANCE))\n",
    "#fig.update_traces(quartilemethod=\"exclusive\") # or \"inclusive\", or \"linear\" by default\n",
    "name = \"Plotly_BoxPlots\"\n",
    "fig_box.write_image(name+\"{}.png\".format(DISTANCE))\n",
    "fig_box.write_html(name+\"{}.html\".format(DISTANCE), auto_open=True)\n",
    "IFrame(name+\"{}.html\".format(DISTANCE), width=1000, height=700)"
   ]
  },
  {
   "cell_type": "code",
   "execution_count": 14,
   "metadata": {},
   "outputs": [
    {
     "data": {
      "text/html": [
       "\n",
       "        <iframe\n",
       "            width=\"1000\"\n",
       "            height=\"700\"\n",
       "            src=\"Plotly_BarPlots.html\"\n",
       "            frameborder=\"0\"\n",
       "            allowfullscreen\n",
       "        ></iframe>\n",
       "        "
      ],
      "text/plain": [
       "<IPython.lib.display.IFrame at 0x7f221df083d0>"
      ]
     },
     "execution_count": 14,
     "metadata": {},
     "output_type": "execute_result"
    }
   ],
   "source": [
    "bar_data = pd.DataFrame(final_df.groupby(['category', 'isweekend'])['duration'].mean().reset_index())\n",
    "fig_bar = px.bar(bar_data, x=\"category\", y=\"duration\", color=\"isweekend\", barmode='group',\\\n",
    "            labels={\"duration\": \"Average Hours/Day\", \"isweekend\": \"\", \"category\": \"Category\"}, \\\n",
    "            title=\"Bar Plot Comparisons of Categories ({} meters radius)\".format(DISTANCE))\n",
    "#fig.update_traces(quartilemethod=\"exclusive\") # or \"inclusive\", or \"linear\" by default\n",
    "name = \"Plotly_BarPlots\"\n",
    "fig_bar.write_image(name+\"{}.png\".format(DISTANCE))\n",
    "fig_bar.write_html(name+\".html\".format(DISTANCE), auto_open=True)\n",
    "IFrame(name+\".html\".format(DISTANCE), width=1000, height=700)"
   ]
  },
  {
   "cell_type": "markdown",
   "metadata": {},
   "source": [
    "### Monthly plot for each category (average hours/day)"
   ]
  },
  {
   "cell_type": "code",
   "execution_count": 16,
   "metadata": {},
   "outputs": [],
   "source": [
    "line_plot_df = pd.DataFrame(final_df.groupby(by=[\"date\", \"category\", \"isweekend\"])[\"duration\"].mean().reset_index())\n",
    "line_plot_df[\"is_weekend\"] = line_plot_df[\"isweekend\"].apply(lambda row: 0 if row == \"Weekday\" else 1)\n",
    "#line_plot_df.head()"
   ]
  },
  {
   "cell_type": "code",
   "execution_count": 17,
   "metadata": {},
   "outputs": [],
   "source": [
    "list_of_weekend_dates = [np.datetime_as_string(i)[0:10] for i in list(line_plot_df.loc[line_plot_df.is_weekend == 1].date.unique())]\n",
    "#list_of_weekend_dates"
   ]
  },
  {
   "cell_type": "code",
   "execution_count": 18,
   "metadata": {},
   "outputs": [
    {
     "data": {
      "text/html": [
       "\n",
       "        <iframe\n",
       "            width=\"1100\"\n",
       "            height=\"500\"\n",
       "            src=\"Plotly_LinePlots20.html\"\n",
       "            frameborder=\"0\"\n",
       "            allowfullscreen\n",
       "        ></iframe>\n",
       "        "
      ],
      "text/plain": [
       "<IPython.lib.display.IFrame at 0x7f221de8dd60>"
      ]
     },
     "execution_count": 18,
     "metadata": {},
     "output_type": "execute_result"
    }
   ],
   "source": [
    "fig_line = px.line(line_plot_df, x=\"date\", y=\"duration\", color='category',\\\n",
    "            labels={\"duration\": \"Average Hours/Day\", \"date\": \"Date\", \"category\": \"Category\"}, \\\n",
    "            title=\"Line Plot Comparisons of Categories ({} meters radius)\".format(DISTANCE))\n",
    "counter = int(0)\n",
    "while(counter < len(list_of_weekend_dates)):\n",
    "    fig_line.add_vrect(x0=list_of_weekend_dates[counter], x1=list_of_weekend_dates[counter+1],fillcolor=\"LightSalmon\", \\\n",
    "                       opacity=0.4, layer=\"below\", line_width=0)\n",
    "    counter += 2\n",
    "    \n",
    "name = \"Plotly_LinePlots\"\n",
    "fig_line.write_image(name+\"{}.png\".format(DISTANCE))\n",
    "fig_line.write_html(name+\"{}.html\".format(DISTANCE), auto_open=True)\n",
    "IFrame(name+\"{}.html\".format(DISTANCE), width=1100, height=500)"
   ]
  },
  {
   "cell_type": "code",
   "execution_count": 19,
   "metadata": {
    "scrolled": false
   },
   "outputs": [
    {
     "data": {
      "text/html": [
       "\n",
       "        <iframe\n",
       "            width=\"1100\"\n",
       "            height=\"600\"\n",
       "            src=\"Plotly_AreaPlots20.html\"\n",
       "            frameborder=\"0\"\n",
       "            allowfullscreen\n",
       "        ></iframe>\n",
       "        "
      ],
      "text/plain": [
       "<IPython.lib.display.IFrame at 0x7f221dd8d190>"
      ]
     },
     "execution_count": 19,
     "metadata": {},
     "output_type": "execute_result"
    }
   ],
   "source": [
    "line_plot_pv = line_plot_df.pivot_table(index = [\"date\"], values=[\"duration\"], columns=[\"category\"])\n",
    "#print_df(line_plot_pv)\n",
    "line_plot_pv.columns = line_plot_pv.columns.droplevel()\n",
    "\n",
    "area_plot = px.area(line_plot_pv, facet_col=\"category\", facet_col_wrap=3,\\\n",
    "            labels={\"value\": \"Average Hours/Day\", \"date\": \"Date\", \"category\": \"Category\".replace(\"=\", \"\")}, \\\n",
    "            title=\"Area Plot Comparisons of Categories ({} meters radius)\".format(DISTANCE)\\\n",
    "                   )#.for_each_trace(lambda t: t.update(name=t.name.replace(\"=\", \"\")))\n",
    "area_plot.update_yaxes(title_font_size=11)\n",
    "area_plot.for_each_annotation(lambda a: a.update(text=a.text.split(\"=\")[-1]))\n",
    "counter = int(0)\n",
    "while(counter < len(list_of_weekend_dates)):\n",
    "    area_plot.add_vrect(x0=list_of_weekend_dates[counter], x1=list_of_weekend_dates[counter+1],fillcolor=\"LightSalmon\", \\\n",
    "                       opacity=0.4, layer=\"below\", line_width=0)\n",
    "    counter += 2\n",
    "area_plot.update_xaxes(showline=True, linewidth=1.2, linecolor='black', mirror=True)\n",
    "area_plot.update_yaxes(showline=True, linewidth=1.2, linecolor='black', mirror=True)\n",
    "#plotly.offline.iplot(area_plot)\n",
    "name = \"Plotly_AreaPlots\"\n",
    "area_plot.write_image(name+\"{}.png\".format(DISTANCE))\n",
    "area_plot.write_html(name+\"{}.html\".format(DISTANCE), auto_open=True)\n",
    "IFrame(name+\"{}.html\".format(DISTANCE), width=1100, height=600)"
   ]
  },
  {
   "cell_type": "code",
   "execution_count": 20,
   "metadata": {},
   "outputs": [],
   "source": [
    "ml_df = pd.DataFrame(weekday_df.groupby(by=[\"user\", \"category\"])[\"duration\"].mean().reset_index().rename(columns={\"duration\":\"weekday_mean_duration\"}))\n",
    "ml_df = pd.merge(ml_df, pd.DataFrame(weekend_df.groupby(by=[\"user\", \"category\"])[\"duration\"].mean().reset_index().rename(columns={\"duration\":\"weekend_mean_duration\"})), on=[\"user\", \"category\"])"
   ]
  },
  {
   "cell_type": "code",
   "execution_count": 21,
   "metadata": {},
   "outputs": [],
   "source": [
    "ml_pv = ml_df.pivot_table(index = [\"user\"], values=[i for i in list(ml_df.columns) if i not in [\"user\", \"category\"]], columns=[\"category\"], fill_value=\"0\")\n",
    "ml_pv.columns = ml_pv.columns.map(lambda x: \"|\".join([str(i) for i in x]))\n",
    "#print_df(ml_pv.head(15))"
   ]
  },
  {
   "cell_type": "code",
   "execution_count": 22,
   "metadata": {},
   "outputs": [],
   "source": [
    "for col in list(ml_pv.columns):\n",
    "    ml_pv[col] = ml_pv[col].apply(float)"
   ]
  },
  {
   "cell_type": "code",
   "execution_count": 23,
   "metadata": {},
   "outputs": [],
   "source": [
    "X = pd.DataFrame(ml_pv.reset_index(drop=True))\n",
    "y = pd.DataFrame(data=ml_pv.index, columns=[\"user\"])\n",
    "#print_df(X.head())\n",
    "#print_df(y.head())"
   ]
  },
  {
   "cell_type": "code",
   "execution_count": 24,
   "metadata": {},
   "outputs": [
    {
     "data": {
      "text/plain": [
       "<AxesSubplot:title={'center':'Distortion Score Elbow for KMeans Clustering'}, xlabel='k', ylabel='distortion score'>"
      ]
     },
     "execution_count": 24,
     "metadata": {},
     "output_type": "execute_result"
    },
    {
     "data": {
      "image/png": "[encoded data removed]",
      "text/plain": [
       "<Figure size 576x396 with 2 Axes>"
      ]
     },
     "metadata": {},
     "output_type": "display_data"
    }
   ],
   "source": [
    "from sklearn.cluster import KMeans\n",
    "from yellowbrick.cluster import KElbowVisualizer\n",
    "\n",
    "model = KMeans()\n",
    "visualizer = KElbowVisualizer(model, k=(1,30))\n",
    "\n",
    "visualizer.fit(ml_pv)        # Fit the data to the visualizer\n",
    "visualizer.show(outpath=\"Distortion Score Elbow for KMeans Clustering.png\")"
   ]
  },
  {
   "cell_type": "code",
   "execution_count": 25,
   "metadata": {},
   "outputs": [],
   "source": [
    "kmeans = KMeans(n_clusters=5, random_state=0).fit(ml_pv)\n",
    "#print(len(kmeans.labels_))\n",
    "#print(ml_pv.shape)\n",
    "#kmeans.labels_"
   ]
  },
  {
   "cell_type": "code",
   "execution_count": 26,
   "metadata": {},
   "outputs": [],
   "source": [
    "ml_pv.reset_index(inplace=True)\n",
    "ml_pv['clusters'] = list(kmeans.labels_)\n",
    "#ml_pv.head(10)"
   ]
  },
  {
   "cell_type": "markdown",
   "metadata": {},
   "source": [
    "#### By default, the scoring parameter metric is set to distortion, which computes the sum of squared distances from each point to its assigned center. However, two other metrics can also be used with the KElbowVisualizer – silhouette and calinski_harabasz. The silhouette score calculates the mean Silhouette Coefficient of all samples, while the calinski_harabasz score computes the ratio of dispersion between and within clusters."
   ]
  }
 ],
 "metadata": {
  "kernelspec": {
   "display_name": "Python 3",
   "language": "python",
   "name": "python3"
  },
  "language_info": {
   "codemirror_mode": {
    "name": "ipython",
    "version": 3
   },
   "file_extension": ".py",
   "mimetype": "text/x-python",
   "name": "python",
   "nbconvert_exporter": "python",
   "pygments_lexer": "ipython3",
   "version": "3.8.5"
  }
 },
 "nbformat": 4,
 "nbformat_minor": 4
}
