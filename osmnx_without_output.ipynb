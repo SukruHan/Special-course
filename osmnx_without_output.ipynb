{
 "cells": [
  {
   "cell_type": "code",
   "execution_count": null,
   "metadata": {},
   "outputs": [],
   "source": [
    "import infostop\n",
    "import pandas as pd\n",
    "import numpy as np\n",
    "\n",
    "import osmnx as ox\n",
    "import requests\n",
    "import matplotlib.cm as cm\n",
    "import matplotlib.colors as colors\n",
    "%matplotlib inline\n",
    "ox.config(use_cache=True, log_console=True)\n",
    "print(ox.__version__)\n",
    "\n",
    "import networkx as nx\n",
    "import geopandas as gpd\n",
    "import multiprocessing as mp\n",
    "\n",
    "from descartes import PolygonPatch\n",
    "from shapely.geometry import Polygon, MultiPolygon\n",
    "\n",
    "import folium\n",
    "from folium.plugins import Fullscreen, HeatMapWithTime, TimestampedGeoJson\n",
    "from folium.plugins import TimestampedGeoJson, HeatMap, HeatMapWithTime\n",
    "\n",
    "import geopy\n",
    "from geopy.geocoders import Nominatim\n",
    "from geopy.extra.rate_limiter import RateLimiter\n",
    "import matplotlib.pyplot as plt\n",
    "import plotly_express as px\n",
    "import tqdm\n",
    "from tqdm._tqdm_notebook import tqdm_notebook"
   ]
  },
  {
   "cell_type": "markdown",
   "metadata": {},
   "source": [
    "data = pd.read_csv('data_one_month.csv')\n",
    "data.head()"
   ]
  },
  {
   "cell_type": "markdown",
   "metadata": {},
   "source": [
    "#### create model\n",
    "model = infostop.Infostop()\n",
    "\n",
    "#### data need to be converted in order to be used in infostop \n",
    "data = data.sort_values(by = ['timestamp', 'user'], ascending=True)\n",
    "\n",
    "#### convert columns to numpy array \n",
    "gps_data = data[['lat', 'lon', 'timestamp']].to_numpy()\n",
    "\n",
    "#### FIND STOPS FOR EACH USER. GROUPBY USER TO FIND STOPS.\n",
    "labels = model.fit_predict(gps_data)\n",
    "\n",
    "folmap = infostop.plot_map(model)\n",
    "folmap.m"
   ]
  },
  {
   "cell_type": "markdown",
   "metadata": {},
   "source": [
    "# convert to list \n",
    "labels_list = labels.tolist()\n",
    "data['labels'] = labels_list \n",
    "data.head()"
   ]
  },
  {
   "cell_type": "markdown",
   "metadata": {},
   "source": [
    "data = pd.DataFrame(infostop.postprocess.compute_intervals(data[['lat','lon','timestamp']].values,labels),\n",
    "            columns = ['label','start','end','lat','lon'])\n",
    "data.head()"
   ]
  },
  {
   "cell_type": "markdown",
   "metadata": {},
   "source": [
    "- FIND STOPS FOR EACH USER. GROUPBY USER TO FIND STOPS."
   ]
  },
  {
   "cell_type": "markdown",
   "metadata": {},
   "source": [
    "#### non-stationary points are assigned to -1, stationary are assigned to a positive integer\n",
    "stops = data[data['label'] != -1]\n",
    "stops = stops.reset_index(drop=True)\n",
    "stops.head()"
   ]
  },
  {
   "cell_type": "markdown",
   "metadata": {},
   "source": [
    "stops.to_csv('stops.csv', index=False)"
   ]
  },
  {
   "cell_type": "markdown",
   "metadata": {},
   "source": [
    "del data, stops"
   ]
  },
  {
   "cell_type": "code",
   "execution_count": null,
   "metadata": {},
   "outputs": [],
   "source": [
    "from IPython.display import display, HTML, Markdown\n",
    "\n",
    "def print_df(df):\n",
    "    return display(HTML(df.to_html()))\n",
    "\n",
    "stops = pd.read_csv('stops.csv')\n",
    "\n",
    "print_df(stops.head())"
   ]
  },
  {
   "cell_type": "code",
   "execution_count": null,
   "metadata": {},
   "outputs": [],
   "source": [
    "stops.rename(columns={'loc':'label'}, inplace=True)\n",
    "stops['start'] = pd.to_datetime(stops['start'], unit='ms')\n",
    "stops['end'] = pd.to_datetime(stops['end'], unit='ms')\n",
    "stops['label'] = stops['label'].apply(int)\n",
    "stops.head()"
   ]
  },
  {
   "cell_type": "code",
   "execution_count": null,
   "metadata": {},
   "outputs": [],
   "source": [
    "stops.shape"
   ]
  },
  {
   "cell_type": "code",
   "execution_count": null,
   "metadata": {},
   "outputs": [],
   "source": [
    "stops['label'] = stops['label'].apply(str)\n",
    "stops['user'] = stops['user'].apply(str)\n",
    "stops.head()"
   ]
  },
  {
   "cell_type": "code",
   "execution_count": null,
   "metadata": {},
   "outputs": [],
   "source": [
    "stops.dtypes"
   ]
  },
  {
   "cell_type": "code",
   "execution_count": null,
   "metadata": {},
   "outputs": [],
   "source": [
    "len(stops['label'].unique())"
   ]
  },
  {
   "cell_type": "code",
   "execution_count": null,
   "metadata": {},
   "outputs": [],
   "source": [
    "stops.tail()"
   ]
  },
  {
   "cell_type": "code",
   "execution_count": null,
   "metadata": {},
   "outputs": [],
   "source": [
    "print(stops.loc[(stops['start'] >= pd.to_datetime('2014-01-01')) & (stops['start'] < pd.to_datetime('2014-01-02')) & (stops['user'] == '0')].shape)\n",
    "print_df(stops.loc[(stops['start'] >= pd.to_datetime('2014-01-01')) & (stops['start'] < pd.to_datetime('2014-01-02')) & (stops['user'] == '0')].head())"
   ]
  },
  {
   "cell_type": "code",
   "execution_count": null,
   "metadata": {},
   "outputs": [],
   "source": [
    "oneday = stops.loc[(stops['start'] >= pd.to_datetime('2014-01-01')) & (stops['start'] < pd.to_datetime('2014-01-02')) & ((stops['user'] == '0') | (stops['user'] == '1') | (stops['user'] == '2'))].copy()\n",
    "oneday.head()"
   ]
  },
  {
   "cell_type": "code",
   "execution_count": null,
   "metadata": {},
   "outputs": [],
   "source": [
    "display(Markdown(\"<font color=green> <font size=4>'oneday' dataframe has 3 people's information which has the user labels of 0, 1 and 2.\\\n",
    "                 \\nShape of this dataframe is {}.\".format(oneday.shape)))"
   ]
  },
  {
   "cell_type": "code",
   "execution_count": null,
   "metadata": {},
   "outputs": [],
   "source": [
    "loc_data = [[row['lat'],row['lon']] for index, row in oneday.iterrows()]"
   ]
  },
  {
   "cell_type": "code",
   "execution_count": null,
   "metadata": {},
   "outputs": [],
   "source": [
    "map_hooray = folium.Map(location=[55.636413, 11.298542], zoom_start = 3, tiles='Stamen Toner')\n",
    "HeatMap(loc_data, radius = 20, max_zoom = 30).add_to(map_hooray)\n",
    "map_hooray"
   ]
  },
  {
   "cell_type": "code",
   "execution_count": null,
   "metadata": {},
   "outputs": [],
   "source": [
    "oneday_median = pd.merge(oneday.groupby(by=['label'])['lat'].median().reset_index().copy(), \\\n",
    "                         oneday.groupby(by=['label'])['lon'].median().reset_index().copy(), how='outer', on='label')\n",
    "oneday_median.rename(columns={'lat':'lat_median', 'lon':'lot_median'}, inplace=True)\n",
    "oneday_median"
   ]
  },
  {
   "cell_type": "code",
   "execution_count": null,
   "metadata": {},
   "outputs": [],
   "source": [
    "def percent_missing(df):\n",
    "    percent_missing = df.isnull().sum() * 100 / len(df)\n",
    "    missing_value_df = pd.DataFrame({'column_name': df.columns,\n",
    "                                 'percent_missing': percent_missing})\n",
    "    missing_value_df.sort_values('percent_missing', inplace=True)\n",
    "    missing_value_df.reset_index(drop=True, inplace=True)\n",
    "    return missing_value_df\n",
    "\n",
    "missing_df_median = percent_missing(oneday_median)\n",
    "missing_df_median"
   ]
  },
  {
   "cell_type": "code",
   "execution_count": null,
   "metadata": {},
   "outputs": [],
   "source": [
    "print('{} rows dropped after finding median latitudes and longitudes for each label.'.format(oneday.shape[0]-oneday_median.shape[0]))"
   ]
  },
  {
   "cell_type": "code",
   "execution_count": null,
   "metadata": {},
   "outputs": [],
   "source": [
    "oneday_median.dtypes"
   ]
  },
  {
   "cell_type": "code",
   "execution_count": null,
   "metadata": {},
   "outputs": [],
   "source": [
    "from geopy.distance import geodesic\n",
    "\n",
    "coords_1 = (52.2296756, 21.0122287)\n",
    "coords_2 = (52.406374, 16.9251681)\n",
    "\n",
    "print('Distance Miles:      ', geodesic(coords_1, coords_2).miles)\n",
    "print('Distance Kilometers: ', geodesic(coords_1, coords_2).km)\n",
    "print('Distance Meters:     ', geodesic(coords_1, coords_2).m)"
   ]
  },
  {
   "cell_type": "code",
   "execution_count": null,
   "metadata": {},
   "outputs": [],
   "source": [
    "loc_data = [[row['lat'],row['lon']] for index, row in oneday_median.iterrows()]\n",
    "map_hooray = folium.Map(location=[55.636413, 11.298542], zoom_start = 3, tiles='Stamen Toner')\n",
    "HeatMap(loc_data, radius = 20, max_zoom = 30).add_to(map_hooray)\n",
    "map_hooray"
   ]
  },
  {
   "cell_type": "code",
   "execution_count": null,
   "metadata": {},
   "outputs": [],
   "source": [
    "oneday_real = pd.merge(oneday, oneday_median, on='label', how='left')\n",
    "oneday_real.sort_values(by=['start', 'end', 'label'], inplace=True)\n",
    "oneday_real.reset_index(drop=True, inplace=True)\n",
    "print_df(oneday_real.head())"
   ]
  },
  {
   "cell_type": "markdown",
   "metadata": {},
   "source": [
    "<font color = green>\n",
    "<font size = 4>\n",
    "\n",
    "- Now, median coordinates are found for each label.\n",
    "- Only media coordinates will be kept and others will be dropped."
   ]
  },
  {
   "cell_type": "code",
   "execution_count": null,
   "metadata": {},
   "outputs": [],
   "source": [
    "oneday_real.drop(columns=['lat', 'lon'], inplace=True)\n",
    "oneday_real.rename(columns={'lat_median':'lat', 'lot_median':'lon'}, inplace=True)\n",
    "oneday_real[\"geo\"] = oneday_real[\"lat\"].map(str) + \", \" + oneday_real[\"lon\"].map(str)\n",
    "oneday_real.head()"
   ]
  },
  {
   "cell_type": "code",
   "execution_count": null,
   "metadata": {},
   "outputs": [],
   "source": [
    "%who DataFrame"
   ]
  },
  {
   "cell_type": "code",
   "execution_count": null,
   "metadata": {},
   "outputs": [],
   "source": [
    "del oneday_median\n",
    "oneday_median = oneday_real.copy()\n",
    "del missing_df_median, oneday, oneday_real"
   ]
  },
  {
   "cell_type": "code",
   "execution_count": null,
   "metadata": {},
   "outputs": [],
   "source": [
    "missing_df_median = percent_missing(oneday_median)\n",
    "missing_df_median"
   ]
  },
  {
   "cell_type": "code",
   "execution_count": null,
   "metadata": {},
   "outputs": [],
   "source": [
    "del missing_df_median\n",
    "oneday_median"
   ]
  },
  {
   "cell_type": "code",
   "execution_count": null,
   "metadata": {},
   "outputs": [],
   "source": [
    "# 'place' is the first row of 'oneday_median' dataset\n",
    "place = tuple((float(oneday_median['geo'][0].split(', ')[0]), float(oneday_median['geo'][0].split(', ')[1])))\n",
    "\n",
    "tags = {'amenity' : True,\n",
    "        'landuse' : ['retail', 'commercial'],\n",
    "        'highway' : 'bus_stop'}\n",
    "gdf = ox.geometries_from_point(center_point = place, tags = tags)\n",
    "gdf.shape"
   ]
  },
  {
   "cell_type": "code",
   "execution_count": null,
   "metadata": {},
   "outputs": [],
   "source": [
    "pd.DataFrame(gdf)"
   ]
  },
  {
   "cell_type": "markdown",
   "metadata": {},
   "source": [
    "- We should find a surrounding box of any points."
   ]
  },
  {
   "cell_type": "markdown",
   "metadata": {},
   "source": [
    "<font color = green>\n",
    "<font size = 4>\n",
    "\n",
    "- I don't need following code to find out outliers in data since I know my data based on user label.\n",
    "- Therefore, I turned them in Markdown"
   ]
  },
  {
   "cell_type": "markdown",
   "metadata": {},
   "source": [
    "len(oneday_median['label'].unique())"
   ]
  },
  {
   "cell_type": "markdown",
   "metadata": {},
   "source": [
    "- I will drop the outliers from the data in order to create a bounding box from lat and lon"
   ]
  },
  {
   "cell_type": "markdown",
   "metadata": {},
   "source": [
    "plt.hist(bins=20, x=oneday_median['lat'])\n",
    "plt.show()"
   ]
  },
  {
   "cell_type": "markdown",
   "metadata": {},
   "source": [
    "plt.hist(bins=20, x=oneday_median['lon'])\n",
    "plt.show()"
   ]
  },
  {
   "cell_type": "markdown",
   "metadata": {},
   "source": [
    "oneday_median.drop(index=oneday_median.loc[oneday_median['lon']>25].index, inplace=True)"
   ]
  },
  {
   "cell_type": "markdown",
   "metadata": {},
   "source": [
    "plt.hist(bins=20, x=oneday_median['lat'])\n",
    "plt.show()"
   ]
  },
  {
   "cell_type": "markdown",
   "metadata": {},
   "source": [
    "plt.hist(bins=20, x=oneday_median['lon'])\n",
    "plt.show()"
   ]
  },
  {
   "cell_type": "markdown",
   "metadata": {},
   "source": [
    "oneday_median.loc[oneday_median['lon']<5]"
   ]
  },
  {
   "cell_type": "markdown",
   "metadata": {},
   "source": [
    "oneday_median.drop(index=list(oneday_median.loc[oneday_median['lon']<5].index), inplace=True)"
   ]
  },
  {
   "cell_type": "markdown",
   "metadata": {},
   "source": [
    "plt.hist(bins=20, x=oneday_median['lon'])\n",
    "plt.show()"
   ]
  },
  {
   "cell_type": "markdown",
   "metadata": {},
   "source": [
    "plt.hist(bins=20, x=oneday_median['lat'])\n",
    "plt.show()"
   ]
  },
  {
   "cell_type": "markdown",
   "metadata": {},
   "source": [
    "oneday_median.loc[(oneday_median['lat']>57) | (oneday_median['lat']<54)]"
   ]
  },
  {
   "cell_type": "markdown",
   "metadata": {},
   "source": [
    "oneday_median.drop(index=list(oneday_median.loc[(oneday_median['lat']>57) | (oneday_median['lat']<54)].index), inplace=True)"
   ]
  },
  {
   "cell_type": "markdown",
   "metadata": {},
   "source": [
    "plt.hist(bins=20, x=oneday_median['lat'])\n",
    "plt.show()"
   ]
  },
  {
   "cell_type": "markdown",
   "metadata": {},
   "source": [
    "plt.hist(bins='auto', x=oneday_median['lon'])\n",
    "plt.show()"
   ]
  },
  {
   "cell_type": "markdown",
   "metadata": {},
   "source": [
    "Since latitude histogram seems a little more normal distributed, I will stick to that."
   ]
  },
  {
   "cell_type": "markdown",
   "metadata": {},
   "source": [
    "plt.hist(bins='auto', x=oneday_median['lat'])\n",
    "plt.show()"
   ]
  },
  {
   "cell_type": "markdown",
   "metadata": {},
   "source": [
    "oneday_median.reset_index(drop=True, inplace=True)"
   ]
  },
  {
   "cell_type": "code",
   "execution_count": null,
   "metadata": {},
   "outputs": [],
   "source": [
    "print(\n",
    "oneday_median['lat'].min(),\n",
    "oneday_median['lat'].max(),\n",
    "oneday_median['lon'].min(),\n",
    "oneday_median['lon'].max())"
   ]
  },
  {
   "cell_type": "markdown",
   "metadata": {},
   "source": [
    "- After deleting outliers, a more meaningful map is visualized below."
   ]
  },
  {
   "cell_type": "code",
   "execution_count": null,
   "metadata": {},
   "outputs": [],
   "source": [
    "loc_data = [[row['lat'],row['lon']] for index, row in oneday_median.iterrows()]\n",
    "map_hooray = folium.Map(location=[55.636413, 11.298542], zoom_start = 3, tiles='Stamen Toner')\n",
    "HeatMap(loc_data, radius = 20, max_zoom = 30).add_to(map_hooray)\n",
    "map_hooray"
   ]
  },
  {
   "cell_type": "code",
   "execution_count": null,
   "metadata": {},
   "outputs": [],
   "source": [
    "south = oneday_median['lat'].min()\n",
    "north = oneday_median['lat'].max()\n",
    "west = oneday_median['lon'].min()\n",
    "east = oneday_median['lon'].max()\n",
    "tags = {'amenity' : True,\n",
    "        'landuse' : ['retail', 'commercial'],\n",
    "        'highway' : 'bus_stop'}\n",
    "gdf = ox.geometries_from_bbox(north = north, south = south, east = east, west = west, tags = tags)\n",
    "gdf.shape"
   ]
  },
  {
   "cell_type": "code",
   "execution_count": null,
   "metadata": {},
   "outputs": [],
   "source": [
    "gdf[gdf['amenity']=='bank'].dropna(axis=1, how='any')"
   ]
  },
  {
   "cell_type": "markdown",
   "metadata": {},
   "source": [
    "<font color = green>\n",
    "<font size = 4>\n",
    "\n",
    "- Skip the following codes till find a warning again in a Markdown cell."
   ]
  },
  {
   "cell_type": "code",
   "execution_count": null,
   "metadata": {},
   "outputs": [],
   "source": [
    "gdf[gdf['highway']=='bus_stop'].dropna(axis=1, how='any').head()"
   ]
  },
  {
   "cell_type": "code",
   "execution_count": null,
   "metadata": {},
   "outputs": [],
   "source": [
    "ax = gdf.plot()\n",
    "_ = ax.axis('off')"
   ]
  },
  {
   "cell_type": "code",
   "execution_count": null,
   "metadata": {},
   "outputs": [],
   "source": [
    "ax = gdf.plot()"
   ]
  },
  {
   "cell_type": "code",
   "execution_count": null,
   "metadata": {},
   "outputs": [],
   "source": [
    "from functools import partial\n",
    "import pyproj\n",
    "from shapely.ops import transform\n",
    "from shapely.geometry import Point"
   ]
  },
  {
   "cell_type": "code",
   "execution_count": null,
   "metadata": {},
   "outputs": [],
   "source": [
    "proj_wgs84 = pyproj.Proj('+proj=longlat +datum=WGS84')\n",
    "\n",
    "\n",
    "def geodesic_point_buffer(lat, lon, km):\n",
    "    # Azimuthal equidistant projection\n",
    "    aeqd_proj = '+proj=aeqd +lat_0={lat} +lon_0={lon} +x_0=0 +y_0=0'\n",
    "    project = partial(\n",
    "        pyproj.transform,\n",
    "        pyproj.Proj(aeqd_proj.format(lat=lat, lon=lon)),\n",
    "        proj_wgs84)\n",
    "    buf = Point(0, 0).buffer(km * 1000)  # distance in metres\n",
    "    return transform(project, buf).exterior.coords[:]\n",
    "\n",
    "# Example\n",
    "# 20 meters\n",
    "circle = geodesic_point_buffer(55.636413, 11.298542, 10)\n",
    "circle = [list(i) for i in circle]\n",
    "for i in range(len(circle)):\n",
    "    circle[i].reverse()\n",
    "circle"
   ]
  },
  {
   "cell_type": "markdown",
   "metadata": {},
   "source": [
    "- Longitude indexed sorting above."
   ]
  },
  {
   "cell_type": "code",
   "execution_count": null,
   "metadata": {},
   "outputs": [],
   "source": [
    "maps = folium.Map(location=circle[0], tiles='Stamen Toner',zoom_start=9)\n",
    "for i in range(len(circle)):\n",
    "    folium.CircleMarker(location=circle[i], radius=4, color='darkred', fill=True, fill_color='lightblue',\\\n",
    "                       popup=\"{}\".format(\"Text\"), icon=folium.Icon(color='green')).add_to(maps)\n",
    "maps"
   ]
  },
  {
   "cell_type": "code",
   "execution_count": null,
   "metadata": {},
   "outputs": [],
   "source": [
    "oneday_median"
   ]
  },
  {
   "cell_type": "markdown",
   "metadata": {},
   "source": [
    "- It is not gonna be a circle but it will include 20 meter diameter circle since the edges of the bounding box will be 20 meters."
   ]
  },
  {
   "cell_type": "code",
   "execution_count": null,
   "metadata": {},
   "outputs": [],
   "source": [
    "def surrounding_box(lat, lon, km = 0.03):\n",
    "    # 30 meters as a default\n",
    "    \n",
    "    max_lat = 0\n",
    "    min_lat = 999999\n",
    "    max_lon = 0\n",
    "    min_lon = 999999\n",
    "\n",
    "    circle = geodesic_point_buffer(lat, lon, km)\n",
    "    circle = [list(i) for i in circle]\n",
    "\n",
    "    for i in range(len(circle)):\n",
    "        circle[i].reverse()\n",
    "        if circle[i][0] > max_lat:\n",
    "            max_lat = circle[i][0]\n",
    "        if circle[i][0] < min_lat:\n",
    "            min_lat = circle[i][0]\n",
    "        if circle[i][1] > max_lon:\n",
    "            max_lon = circle[i][1]\n",
    "        if circle[i][1] < min_lon:\n",
    "            min_lon = circle[i][1]\n",
    "    \n",
    "    return min_lat, max_lat, min_lon, max_lon"
   ]
  },
  {
   "cell_type": "code",
   "execution_count": null,
   "metadata": {},
   "outputs": [],
   "source": [
    "oneday_median[['min_lat', 'max_lat', 'min_lon', 'max_lon']] = oneday_median.apply(\\\n",
    "                                                        lambda row: surrounding_box(row['lat'], row['lon']), axis=1, result_type=\"expand\")"
   ]
  },
  {
   "cell_type": "code",
   "execution_count": null,
   "metadata": {},
   "outputs": [],
   "source": [
    "oneday_median"
   ]
  },
  {
   "cell_type": "code",
   "execution_count": null,
   "metadata": {},
   "outputs": [],
   "source": [
    "gdf[gdf['amenity']=='bank'].dropna(axis=1, how='any')"
   ]
  },
  {
   "cell_type": "code",
   "execution_count": null,
   "metadata": {},
   "outputs": [],
   "source": [
    "gdf_df = pd.DataFrame(gdf)"
   ]
  },
  {
   "cell_type": "code",
   "execution_count": null,
   "metadata": {},
   "outputs": [],
   "source": [
    "import warnings\n",
    "warnings.filterwarnings('ignore')\n",
    "gdf_df.shape"
   ]
  },
  {
   "cell_type": "code",
   "execution_count": null,
   "metadata": {},
   "outputs": [],
   "source": [
    "print_df(gdf_df.head())"
   ]
  },
  {
   "cell_type": "code",
   "execution_count": null,
   "metadata": {},
   "outputs": [],
   "source": [
    "list(gdf_df.columns)"
   ]
  },
  {
   "cell_type": "code",
   "execution_count": null,
   "metadata": {},
   "outputs": [],
   "source": [
    "gdf_df['geometry'].dtypes"
   ]
  },
  {
   "cell_type": "code",
   "execution_count": null,
   "metadata": {},
   "outputs": [],
   "source": [
    "gdf_df['geometry'][0]"
   ]
  },
  {
   "cell_type": "code",
   "execution_count": null,
   "metadata": {},
   "outputs": [],
   "source": [
    "gdf_df.loc[gdf_df['geometry'] == 'POINT (8.47627 55.46630)'].dropna(axis=1, how='any')"
   ]
  },
  {
   "cell_type": "code",
   "execution_count": null,
   "metadata": {},
   "outputs": [],
   "source": [
    "def turn_geometry_values(row):\n",
    "    return np.asarray(row)[1], np.asarray(row)[0]\n",
    "\n",
    "# , axis=1, result_type=\"expand\""
   ]
  },
  {
   "cell_type": "code",
   "execution_count": null,
   "metadata": {},
   "outputs": [],
   "source": [
    "print(gdf_df['geometry'][77861].centroid.y)"
   ]
  },
  {
   "cell_type": "code",
   "execution_count": null,
   "metadata": {},
   "outputs": [],
   "source": [
    "gdf_df['center_point'] = gdf_df['geometry'].map(lambda row: row.centroid)\n",
    "gdf_df[\"lat\"] = gdf_df.center_point.map(lambda row: row.y)\n",
    "gdf_df[\"lon\"] = gdf_df.center_point.map(lambda row: row.x)"
   ]
  },
  {
   "cell_type": "code",
   "execution_count": null,
   "metadata": {},
   "outputs": [],
   "source": [
    "print_df(gdf_df[['geometry', 'center_point', 'lat', 'lon']].head())"
   ]
  },
  {
   "cell_type": "code",
   "execution_count": null,
   "metadata": {},
   "outputs": [],
   "source": [
    "print(list(np.asarray(gdf_df.geometry.values[0])))"
   ]
  },
  {
   "cell_type": "markdown",
   "metadata": {},
   "source": [
    "gdf[gdf['amenity']=='bank'].dropna(axis=1, how='any')\n",
    "gdf[gdf['highway']=='bus_stop'].dropna(axis=1, how='any').head()"
   ]
  },
  {
   "cell_type": "code",
   "execution_count": null,
   "metadata": {},
   "outputs": [],
   "source": [
    "oneday_median.head()"
   ]
  },
  {
   "cell_type": "code",
   "execution_count": null,
   "metadata": {},
   "outputs": [],
   "source": [
    "print_df(gdf_df.head())"
   ]
  },
  {
   "cell_type": "markdown",
   "metadata": {},
   "source": [
    "- First I designed dataframes to compare in pandas but I realized that it is easier in Geopandas."
   ]
  },
  {
   "cell_type": "markdown",
   "metadata": {},
   "source": [
    "<font color = green>\n",
    "<font size = 4>\n",
    "\n",
    "- Start from here after 'oneday_median' is ready."
   ]
  },
  {
   "cell_type": "code",
   "execution_count": null,
   "metadata": {},
   "outputs": [],
   "source": [
    "oneday_gdf = gpd.GeoDataFrame(\n",
    "    oneday_median, geometry=gpd.points_from_xy(oneday_median.lon, oneday_median.lat))"
   ]
  },
  {
   "cell_type": "code",
   "execution_count": null,
   "metadata": {},
   "outputs": [],
   "source": [
    "oneday_gdf.head()"
   ]
  },
  {
   "cell_type": "code",
   "execution_count": null,
   "metadata": {},
   "outputs": [],
   "source": [
    "gdf['center_point'] = gdf['geometry'].map(lambda row: row.centroid)\n",
    "gdf[\"gdf_lat\"] = gdf.center_point.map(lambda row: row.y)\n",
    "gdf[\"gdf_lon\"] = gdf.center_point.map(lambda row: row.x)"
   ]
  },
  {
   "cell_type": "code",
   "execution_count": null,
   "metadata": {},
   "outputs": [],
   "source": [
    "print_df(gdf[['geometry', 'center_point', 'gdf_lat', 'gdf_lon']].head())"
   ]
  },
  {
   "cell_type": "code",
   "execution_count": null,
   "metadata": {},
   "outputs": [],
   "source": [
    "#https://gis.stackexchange.com/questions/222315/geopandas-find-nearest-point-in-other-dataframe\n",
    "#https://scikit-learn.org/stable/modules/generated/sklearn.neighbors.BallTree.html#\n",
    "#https://scikit-learn.org/stable/modules/generated/sklearn.neighbors.DistanceMetric.html\n",
    "\n",
    "# BALL TREES, distance_upper_bound, haver sine distance, haversine\n",
    "\n",
    "from sklearn.neighbors import BallTree\n",
    "from shapely.geometry import Point\n",
    "import functools\n",
    "import operator\n",
    "\n",
    "# find that distances, if they are out of 20meters\n",
    "# For a specified leaf_size, a leaf node is guaranteed to satisfy;\n",
    "# leaf_size <= n_points <= 2 * leaf_size, except in the case that n_samples < leaf_size.\n",
    "def ball_nearest(df, gdf):\n",
    "    array_DF = np.array(list(df.geometry.apply(lambda x: (x.x, x.y))))\n",
    "    array_GDF = np.array(list(gdf.center_point.apply(lambda x: (x.x, x.y))))\n",
    "    # Tree will be created according to our gdf_df since the closest points will be found out according to these 'triangulations'\n",
    "    leafSize = round(len(array_GDF)) # to guarantee number of leaves\n",
    "    btree = BallTree(array_GDF, metric='haversine', leaf_size=leafSize)\n",
    "    # Query will be conducted for the 'User' data.\n",
    "    dist, idx = btree.query(array_DF, k=1)\n",
    "    idx = functools.reduce(operator.iconcat, idx, [])\n",
    "    dist = functools.reduce(operator.iconcat, dist, [])\n",
    "    gdf = pd.concat([df.reset_index(drop=True), gdf.loc[idx, gdf.columns != 'geometry'].reset_index(drop=True), pd.Series(dist, name='dist')], axis=1)\n",
    "    \n",
    "    return gdf, dist, idx\n",
    "\n",
    "nearest_gdf, distances, indices = ball_nearest(oneday_gdf, gdf)\n",
    "\n",
    "nearest_gdf"
   ]
  },
  {
   "cell_type": "code",
   "execution_count": null,
   "metadata": {},
   "outputs": [],
   "source": [
    "print_df(nearest_gdf.head().dropna(axis=1, how='any'))"
   ]
  },
  {
   "cell_type": "code",
   "execution_count": null,
   "metadata": {},
   "outputs": [],
   "source": [
    "list(nearest_gdf['amenity'])"
   ]
  },
  {
   "cell_type": "markdown",
   "metadata": {},
   "source": [
    "<font color = green>\n",
    "<font size = 4>\n",
    "\n",
    "- __*'dist'*__ is the difference between two latitude and longitude sets. (2 coordinates). \n",
    "- How should I convert __*'dist'*__ to __*'meters'*__?\n",
    "- __*'haversine'*__ outputs in __*'radians'*__"
   ]
  },
  {
   "cell_type": "code",
   "execution_count": null,
   "metadata": {},
   "outputs": [],
   "source": [
    "print_df(nearest_gdf.head().dropna(axis=1, how='any'))"
   ]
  },
  {
   "cell_type": "code",
   "execution_count": null,
   "metadata": {},
   "outputs": [],
   "source": [
    "from math import radians, cos, sin, asin, sqrt\n",
    "\n",
    "def haversine(lon1, lat1, lon2, lat2):\n",
    "    \"\"\"\n",
    "    Calculate the great circle distance between two points \n",
    "    on the earth (specified in decimal degrees)\n",
    "    \"\"\"\n",
    "    # convert decimal degrees to radians \n",
    "    lon1, lat1, lon2, lat2 = map(radians, [lon1, lat1, lon2, lat2])\n",
    "\n",
    "    # haversine formula \n",
    "    dlon = lon2 - lon1 \n",
    "    dlat = lat2 - lat1 \n",
    "    a = sin(dlat/2)**2 + cos(lat1) * cos(lat2) * sin(dlon/2)**2\n",
    "    c = 2 * asin(sqrt(a)) \n",
    "    r = 6371 # Radius of earth in kilometers. Use 3956 for miles\n",
    "    return c * r\n",
    "\n",
    "haversine(nearest_gdf.loc[0, 'lon'], nearest_gdf.loc[0, 'lat'], nearest_gdf.loc[0, 'gdf_lon'], nearest_gdf.loc[0, 'gdf_lat'])"
   ]
  },
  {
   "cell_type": "code",
   "execution_count": null,
   "metadata": {},
   "outputs": [],
   "source": [
    "from sklearn.metrics.pairwise import haversine_distances\n",
    "from math import radians\n",
    "\n",
    "row0 = nearest_gdf.loc[0, 'lat'], nearest_gdf.loc[0, 'lon']\n",
    "row0_0 = nearest_gdf.loc[0, 'gdf_lat'], nearest_gdf.loc[0, 'gdf_lon']\n",
    "row0_in_radians = [radians(_) for _ in row0]\n",
    "row0_0_in_radians = [radians(_) for _ in row0_0]\n",
    "result = haversine_distances([row0_in_radians, row0_0_in_radians])\n",
    "print('Result in radians:\\n',result)\n",
    "print('Result in km:\\n',result * 6371000/1000)"
   ]
  },
  {
   "cell_type": "code",
   "execution_count": null,
   "metadata": {},
   "outputs": [],
   "source": [
    "# https://scikit-learn.org/stable/modules/generated/sklearn.metrics.pairwise.haversine_distances.html#:~:text=The%20Haversine%20(or%20great%20circle,the%20longitude%2C%20given%20in%20radians.\n",
    "nearest_gdf.loc[0, 'dist'] * 6371000/1000  # multiply by Earth radius to get kilometers"
   ]
  },
  {
   "cell_type": "markdown",
   "metadata": {},
   "source": [
    "<font color = green>\n",
    "<font size = 4>\n",
    "\n",
    "- __*'dist'*__ isn't same with the ones I have found as in above;"
   ]
  },
  {
   "cell_type": "code",
   "execution_count": null,
   "metadata": {},
   "outputs": [],
   "source": []
  }
 ],
 "metadata": {
  "kernelspec": {
   "display_name": "Python 3",
   "language": "python",
   "name": "python3"
  },
  "language_info": {
   "codemirror_mode": {
    "name": "ipython",
    "version": 3
   },
   "file_extension": ".py",
   "mimetype": "text/x-python",
   "name": "python",
   "nbconvert_exporter": "python",
   "pygments_lexer": "ipython3",
   "version": "3.8.5"
  }
 },
 "nbformat": 4,
 "nbformat_minor": 4
}
